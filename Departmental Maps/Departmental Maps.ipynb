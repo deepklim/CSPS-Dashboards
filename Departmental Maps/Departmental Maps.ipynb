{
 "cells": [
  {
   "cell_type": "code",
   "execution_count": null,
   "metadata": {},
   "outputs": [],
   "source": [
    "# Notes:\n",
    "# - use modified LSR from Dept Gen\n",
    "# - ensure all cities geocoded\n",
    "# This is a good use for virtual environments: make a requirements.txt, make an env, keep code safe even after upgrades"
   ]
  },
  {
   "cell_type": "code",
   "execution_count": null,
   "metadata": {},
   "outputs": [],
   "source": [
    "%matplotlib agg\n",
    "\n",
    "import city_counts\n",
    "import datetime\n",
    "import math\n",
    "from matplotlib import rcParams\n",
    "import matplotlib.patches as mpatches\n",
    "import matplotlib.pyplot as plt\n",
    "from mpl_toolkits.basemap import Basemap\n",
    "import numpy as np\n",
    "import pandas as pd\n",
    "from PIL import Image"
   ]
  },
  {
   "cell_type": "code",
   "execution_count": null,
   "metadata": {},
   "outputs": [],
   "source": [
    "# Constants\n",
    "THIS_YEAR = '2018-19'\n",
    "COLOR_LIST = ['#FFFFFF', '#A4BCC4', 'red', 'green', 'blue', 'cyan', 'magenta']\n",
    "rcParams['font.family'] = 'Calibri'"
   ]
  },
  {
   "cell_type": "code",
   "execution_count": null,
   "metadata": {},
   "outputs": [],
   "source": [
    "# Functions\n",
    "# Empty subplot\n",
    "def clear_subplot(ax):\n",
    "    ax.axis('off')\n",
    "\n",
    "# Get picture\n",
    "def get_pic(file, resize_factor=1):\n",
    "    pic = Image.open(file)\n",
    "    width  = math.floor(pic.size[0] / resize_factor)\n",
    "    height = math.floor(pic.size[1] / resize_factor)\n",
    "    pic = pic.resize((width, height), resample=Image.ANTIALIAS)\n",
    "    return pic, width, height\n",
    "\n",
    "# Add point to map\n",
    "def add_point(my_map, lat, lng, color, markersize=20):\n",
    "    my_map.plot(x=lng, y=lat, color=color, markersize=markersize,\n",
    "                marker='o', alpha=0.7, latlon=True)"
   ]
  },
  {
   "cell_type": "code",
   "execution_count": null,
   "metadata": {},
   "outputs": [],
   "source": [
    "def build_map(dept_code, cities):\n",
    "    # Build layout, landscape legal aspect ratio\n",
    "    fig = plt.figure()\n",
    "    fig.set_figheight(12.75)\n",
    "    fig.set_figwidth(21)\n",
    "    fig.set_facecolor(COLOR_LIST[0])\n",
    "    \n",
    "    # ax0 and ax2 left empty to leave room for logos\n",
    "    ax0 = plt.subplot2grid((18, 6), (0, 0), rowspan=2, colspan=6)\n",
    "    ax1 = plt.subplot2grid((18, 6), (2, 0), rowspan=15, colspan=6)\n",
    "    ax2 = plt.subplot2grid((18, 6), (17, 0), rowspan=1, colspan=6)\n",
    "    clear_subplot(ax0)\n",
    "    clear_subplot(ax2)\n",
    "    \n",
    "    # Add FIPS\n",
    "    # Top left\n",
    "    csps, _, height = get_pic('FIPs/csps.png', resize_factor=2.5)\n",
    "    fig.figimage(csps, xo=0, yo=fig.bbox.ymax - height, origin='upper', zorder=1)\n",
    "    \n",
    "    # Bottom left\n",
    "    my_school, _, _ = get_pic('FIPs/my_school.png', resize_factor=1.2)\n",
    "    fig.figimage(my_school, xo=0, yo=0, origin='upper', zorder=1)\n",
    "    \n",
    "    # Bottom right\n",
    "    canada, width, _ = get_pic('FIPs/canada.png', resize_factor=2.5)\n",
    "    fig.figimage(canada, xo=fig.bbox.xmax - width, yo=0, origin='upper', zorder=1)\n",
    "    \n",
    "    # Add text\n",
    "    ax2.text(x=0.5, y=0.0, horizontalalignment='center', fontsize=12, \n",
    "             s='Prepared by Curriculum Management – ' + \\\n",
    "               'Préparé par Gestion du Curriculum')\n",
    "    ax2.text(x=0.9, y=0.5, horizontalalignment='right', fontsize=12, \n",
    "             s='See Appendix 1 for Methodology – ' + \\\n",
    "               'Consulter l\\'Annexe 1 pour la méthodologie')\n",
    "    ax2.text(x=0.9, y=0.0, horizontalalignment='right', fontsize=12, \n",
    "             s='Report generated on – ' + \\\n",
    "               'Rapport généré le ' + datetime.datetime.today().strftime('%d/%m/%Y'))\n",
    "    ax2.text(x=0.9, y=-0.5, horizontalalignment='right', fontsize=12, \n",
    "             s='Page 3/3')\n",
    "    \n",
    "    # Map's axis\n",
    "    ax1.set_title('Curriculum Usage Map, {} – '.format(THIS_YEAR) + \\\n",
    "                  'Carte de participation au cursus, {}'.format(THIS_YEAR) + '\\n' + \\\n",
    "                  'Learners Attending Courses and Events In-Person – ' + \\\n",
    "                  'Apprenants assistants à des cours et évènments en personne',\n",
    "                  fontsize=20, fontweight='bold')\n",
    "    ax1.set_facecolor(COLOR_LIST[0])\n",
    "    ax1.set_xticks([])\n",
    "    \n",
    "    # Map\n",
    "    map1 = Basemap(projection='merc', urcrnrlat=70.0, urcrnrlon=-52.0,\n",
    "                   resolution='l',    llcrnrlat=41.0, llcrnrlon=-140.0, ax=ax1)\n",
    "    map1.drawmapboundary(fill_color=COLOR_LIST[1])\n",
    "    map1.fillcontinents(color=COLOR_LIST[0], lake_color=COLOR_LIST[1])\n",
    "    map1.drawcoastlines()\n",
    "    map1.drawcountries()\n",
    "    map1.drawstates()\n",
    "    \n",
    "    # Add legend\n",
    "    tiny = mpatches.Patch(color=COLOR_LIST[2], label='1-10')\n",
    "    small = mpatches.Patch(color=COLOR_LIST[3], label='11-50')\n",
    "    medium = mpatches.Patch(color=COLOR_LIST[4], label='51-100')\n",
    "    large = mpatches.Patch(color=COLOR_LIST[5], label='101-500')\n",
    "    xlarge = mpatches.Patch(color=COLOR_LIST[6], label='501+')\n",
    "    ax1.legend(handles=[tiny, small, medium, large, xlarge], loc='lower left',\n",
    "               facecolor=COLOR_LIST[0], framealpha=1.0,\n",
    "               title='No. Learners - No. d\\'apprenants')\n",
    "    \n",
    "    # Add points\n",
    "    for color, lat, lng in zip(cities['city_prov'], cities['Latitude'], cities['Longitude']):\n",
    "        if not np.isnan(lat):\n",
    "            add_point(map1, float(lat), float(lng), color)\n",
    "    \n",
    "    # Output to PDF; use tight layout to avoid overlap\n",
    "    fig.tight_layout(pad=1.0, h_pad=1.0)\n",
    "    fig.savefig('D:\\\\Maps\\\\PDFs 2\\\\{}.pdf'.format(dept_code))\n",
    "    \n",
    "    # Clear fig, ax, and map\n",
    "    fig.clear()\n",
    "    plt.close('all')"
   ]
  },
  {
   "cell_type": "code",
   "execution_count": null,
   "metadata": {},
   "outputs": [],
   "source": [
    "departments = pd.read_csv('D:\\\\Maps\\\\Data\\\\departments.csv')\n",
    "departments = departments['Department'].tolist()"
   ]
  },
  {
   "cell_type": "code",
   "execution_count": null,
   "metadata": {
    "scrolled": true
   },
   "outputs": [],
   "source": [
    "%%time\n",
    "for department in departments:\n",
    "    build_map(department, city_counts.city_counts(department))"
   ]
  }
 ],
 "metadata": {
  "kernelspec": {
   "display_name": "Python 3",
   "language": "python",
   "name": "python3"
  },
  "language_info": {
   "codemirror_mode": {
    "name": "ipython",
    "version": 3
   },
   "file_extension": ".py",
   "mimetype": "text/x-python",
   "name": "python",
   "nbconvert_exporter": "python",
   "pygments_lexer": "ipython3",
   "version": "3.7.1"
  }
 },
 "nbformat": 4,
 "nbformat_minor": 2
}
