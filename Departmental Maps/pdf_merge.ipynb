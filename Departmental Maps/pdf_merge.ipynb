{
 "cells": [
  {
   "cell_type": "code",
   "execution_count": null,
   "metadata": {},
   "outputs": [],
   "source": [
    "import os\n",
    "from PyPDF2 import PdfFileMerger"
   ]
  },
  {
   "cell_type": "code",
   "execution_count": null,
   "metadata": {},
   "outputs": [],
   "source": [
    "dashes_dir = 'D:\\\\Maps\\\\PDFs 1\\\\'\n",
    "maps_dir   = 'D:\\\\Maps\\\\PDFs 2\\\\'\n",
    "\n",
    "dashes = sorted(os.listdir(dashes_dir))\n",
    "maps   = sorted(os.listdir(maps_dir))"
   ]
  },
  {
   "cell_type": "code",
   "execution_count": null,
   "metadata": {},
   "outputs": [],
   "source": [
    "os.chdir('D:\\\\Maps\\\\PDFs Combined\\\\')\n",
    "\n",
    "for db, map_ in zip(dashes, maps):\n",
    "    if db == map_:\n",
    "        merger = PdfFileMerger()\n",
    "        merger.append(dashes_dir + db)\n",
    "        merger.append(maps_dir + map_)\n",
    "        merger.write(db)\n",
    "        merger.close()"
   ]
  }
 ],
 "metadata": {
  "kernelspec": {
   "display_name": "Python 3",
   "language": "python",
   "name": "python3"
  },
  "language_info": {
   "codemirror_mode": {
    "name": "ipython",
    "version": 3
   },
   "file_extension": ".py",
   "mimetype": "text/x-python",
   "name": "python",
   "nbconvert_exporter": "python",
   "pygments_lexer": "ipython3",
   "version": "3.7.0"
  }
 },
 "nbformat": 4,
 "nbformat_minor": 2
}
